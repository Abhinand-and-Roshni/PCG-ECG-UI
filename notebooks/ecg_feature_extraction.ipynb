{
 "cells": [
  {
   "cell_type": "code",
   "execution_count": 1,
   "id": "43069a46",
   "metadata": {},
   "outputs": [],
   "source": [
    "# import pandas as pd\n",
    "# names = ['file_name', 'label']\n",
    "# df = pd.read_csv('C:/MATLAB/physionet.org/files/challenge-2016/1.0.0/training-a/REFERENCE.csv', names = names )"
   ]
  },
  {
   "cell_type": "code",
   "execution_count": 2,
   "id": "baa59d44",
   "metadata": {},
   "outputs": [
    {
     "data": {
      "text/html": [
       "<div>\n",
       "<style scoped>\n",
       "    .dataframe tbody tr th:only-of-type {\n",
       "        vertical-align: middle;\n",
       "    }\n",
       "\n",
       "    .dataframe tbody tr th {\n",
       "        vertical-align: top;\n",
       "    }\n",
       "\n",
       "    .dataframe thead th {\n",
       "        text-align: right;\n",
       "    }\n",
       "</style>\n",
       "<table border=\"1\" class=\"dataframe\">\n",
       "  <thead>\n",
       "    <tr style=\"text-align: right;\">\n",
       "      <th></th>\n",
       "      <th>file_name</th>\n",
       "      <th>label</th>\n",
       "    </tr>\n",
       "  </thead>\n",
       "  <tbody>\n",
       "    <tr>\n",
       "      <th>0</th>\n",
       "      <td>a0001</td>\n",
       "      <td>1</td>\n",
       "    </tr>\n",
       "    <tr>\n",
       "      <th>1</th>\n",
       "      <td>a0002</td>\n",
       "      <td>1</td>\n",
       "    </tr>\n",
       "    <tr>\n",
       "      <th>2</th>\n",
       "      <td>a0003</td>\n",
       "      <td>1</td>\n",
       "    </tr>\n",
       "    <tr>\n",
       "      <th>3</th>\n",
       "      <td>a0004</td>\n",
       "      <td>1</td>\n",
       "    </tr>\n",
       "    <tr>\n",
       "      <th>4</th>\n",
       "      <td>a0005</td>\n",
       "      <td>1</td>\n",
       "    </tr>\n",
       "    <tr>\n",
       "      <th>...</th>\n",
       "      <td>...</td>\n",
       "      <td>...</td>\n",
       "    </tr>\n",
       "    <tr>\n",
       "      <th>404</th>\n",
       "      <td>a0405</td>\n",
       "      <td>-1</td>\n",
       "    </tr>\n",
       "    <tr>\n",
       "      <th>405</th>\n",
       "      <td>a0406</td>\n",
       "      <td>-1</td>\n",
       "    </tr>\n",
       "    <tr>\n",
       "      <th>406</th>\n",
       "      <td>a0407</td>\n",
       "      <td>-1</td>\n",
       "    </tr>\n",
       "    <tr>\n",
       "      <th>407</th>\n",
       "      <td>a0408</td>\n",
       "      <td>-1</td>\n",
       "    </tr>\n",
       "    <tr>\n",
       "      <th>408</th>\n",
       "      <td>a0409</td>\n",
       "      <td>-1</td>\n",
       "    </tr>\n",
       "  </tbody>\n",
       "</table>\n",
       "<p>409 rows × 2 columns</p>\n",
       "</div>"
      ],
      "text/plain": [
       "    file_name  label\n",
       "0       a0001      1\n",
       "1       a0002      1\n",
       "2       a0003      1\n",
       "3       a0004      1\n",
       "4       a0005      1\n",
       "..        ...    ...\n",
       "404     a0405     -1\n",
       "405     a0406     -1\n",
       "406     a0407     -1\n",
       "407     a0408     -1\n",
       "408     a0409     -1\n",
       "\n",
       "[409 rows x 2 columns]"
      ]
     },
     "execution_count": 2,
     "metadata": {},
     "output_type": "execute_result"
    }
   ],
   "source": [
    "# df"
   ]
  },
  {
   "cell_type": "code",
   "execution_count": null,
   "id": "1201e35b",
   "metadata": {},
   "outputs": [],
   "source": [
    "import os\n",
    "import sys\n",
    "import numpy as np\n",
    "import pandas as pd"
   ]
  },
  {
   "cell_type": "code",
   "execution_count": 22,
   "id": "c57b7d0d",
   "metadata": {},
   "outputs": [],
   "source": [
    "# Import local Libraries\n",
    "sys.path.insert(0, os.path.dirname(os.getcwd()))\n",
    "from features.feature_extractor import Features"
   ]
  },
  {
   "cell_type": "code",
   "execution_count": 5,
   "id": "13f636ee",
   "metadata": {},
   "outputs": [
    {
     "name": "stdout",
     "output_type": "stream",
     "text": [
      "C:/Users/Roshni/Downloads/A03035.mat\n"
     ]
    }
   ],
   "source": [
    "waveform_path = \"C:/Users/Roshni/Downloads/A03035.mat\"\n",
    "print(waveform_path)"
   ]
  },
  {
   "cell_type": "code",
   "execution_count": 23,
   "id": "ea4ff9f5",
   "metadata": {},
   "outputs": [
    {
     "name": "stdout",
     "output_type": "stream",
     "text": [
      "C:/Users/Roshni/Downloads/A03035.mat\n",
      "print 51:  C:/Users/Roshni/Downloads/A03035.mat\n",
      "CHECKKKKKK THE VERSION!!!!!!!!!!! 1.4.3\n",
      "print 62: C:/Users/Roshni/Downloads/A03035.mat\n",
      "print 63:  C:/Users/Roshni/Downloads/A03035.mat\n",
      "features: {'file_name': 'C:/Users/Roshni/Downloads/A03035.mat', 'full_waveform_min': -0.320197917167608, 'full_waveform_max': 1.1290436301221283, 'full_waveform_mean': 0.000679088469418239, 'full_waveform_median': -0.0028976084553545213, 'full_waveform_std': 0.1344133426381377, 'full_waveform_skew': 4.503354350642093, 'full_waveform_kurtosis': 28.487351076443, 'full_waveform_duration': 29.996666666666666, 'swt_d_1_low_power_ratio': 0.5162056431268279, 'swt_d_1_med_power_ratio': 0.1648741310571035, 'swt_d_1_high_power_ratio': 1.3915913022990334, 'swt_a_1_low_power_ratio': 0.2476496566801092, 'swt_a_1_med_power_ratio': 0.791122215563004, 'swt_a_1_high_power_ratio': 1.0821206339034077, 'swt_d_2_low_power_ratio': 0.7239949946204872, 'swt_d_2_med_power_ratio': 0.08442510175253656, 'swt_d_2_high_power_ratio': 0.29960901259053885, 'swt_a_2_low_power_ratio': 0.23442945309391983, 'swt_a_2_med_power_ratio': 0.21615436130848437, 'swt_a_2_high_power_ratio': 1.1395897627198313, 'swt_d_3_low_power_ratio': 0.7781063793249003, 'swt_d_3_med_power_ratio': 0.10004951702223762, 'swt_d_3_high_power_ratio': 0.15155855236326682, 'swt_a_3_low_power_ratio': 0.23478470026249987, 'swt_a_3_med_power_ratio': 0.15525818626584728, 'swt_a_3_high_power_ratio': 0.3002325306868589, 'swt_d_4_low_power_ratio': 0.7915963042752243, 'swt_d_4_med_power_ratio': 0.1361073808167628, 'swt_d_4_high_power_ratio': 0.10157664252954925, 'swt_a_4_low_power_ratio': 0.23524595165719522, 'swt_a_4_med_power_ratio': 0.15308934667849933, 'swt_a_4_high_power_ratio': 0.2500726081717707, 'swt_d_1_energy_entropy': -26237.422473829854, 'swt_d_1_higuchi_fractal': 1.1250680907586423, 'swt_a_1_energy_entropy': -20966.931886309743, 'swt_a_1_higuchi_fractal': 1.0414986975785652, 'swt_d_2_energy_entropy': -38366.60543601709, 'swt_d_2_higuchi_fractal': 1.3150531263320477, 'swt_a_2_energy_entropy': -23158.268670940673, 'swt_a_2_higuchi_fractal': 1.0845423158232117, 'swt_d_3_energy_entropy': -51656.08062449454, 'swt_d_3_higuchi_fractal': 1.6239088033124167, 'swt_a_3_energy_entropy': -25766.677619728634, 'swt_a_3_higuchi_fractal': 1.1186698422067543, 'swt_d_4_energy_entropy': -69546.10330158548, 'swt_d_4_higuchi_fractal': 1.7726229222925598, 'swt_a_4_energy_entropy': -28518.996174645617, 'swt_a_4_higuchi_fractal': 1.1222184091974585, 'rri_min': 1.0166666666666666, 'rri_max': 1.1166666666666667, 'rri_mean': 1.0522222222222222, 'rri_median': 1.05, 'rri_std': 0.019103854714618864, 'rri_skew': 1.1080770148057462, 'rri_kurtosis': 3.179222723757613, 'rri_rms': 1.0523892080725123, 'diff_rri_min': -0.053333333333333455, 'diff_rri_max': 0.09000000000000008, 'diff_rri_mean': 0.0005128205128205161, 'diff_rri_median': 0.0, 'diff_rri_std': 0.029705103305546064, 'diff_rri_skew': 0.6674400709768515, 'diff_rri_kurtosis': 1.613187095336965, 'diff_rri_rms': 0.029132764179149732, 'diff2_rri_min': -0.14000000000000012, 'diff2_rri_max': 0.1033333333333335, 'diff2_rri_mean': 0.00013333333333332754, 'diff2_rri_median': -0.006666666666666599, 'diff2_rri_std': 0.051374442413843646, 'diff2_rri_kurtosis': 0.9464898495906797, 'diff2_rri_rms': 0.0503366444827005, 'pnn01': 92.3076923076923, 'pnn10': 65.38461538461539, 'pnn20': 50.0, 'pnn30': 30.76923076923077, 'pnn40': 11.538461538461538, 'pnn50': 11.538461538461538, 'pnn60': 3.8461538461538463, 'pnn70': 3.8461538461538463, 'pnn80': 3.8461538461538463, 'pnn90': 3.8461538461538463, 'pnn100': 0.0, 'pnn200': 0.0, 'pnn400': 0.0, 'pnn600': 0.0, 'pnn800': 0.0}\n",
      "Finished extracting features from C:/Users/Roshni/Downloads/A03035.mat.mat | Extraction time: 0.003 minutes\n"
     ]
    },
    {
     "name": "stderr",
     "output_type": "stream",
     "text": [
      "C:\\Users\\Roshni\\OneDrive\\Desktop\\Sem7\\Project 1\\ECG UI\\utils\\tools\\higuchi_fractal_dimension.py:35: FutureWarning: `rcond` parameter will change to the default of machine precision times ``max(M, N)`` where M and N are the input matrix dimensions.\n",
      "To use the future default and silence this warning we advise to pass `rcond=None`, to keep using the old, explicitly pass `rcond=-1`.\n",
      "  (p, r1, r2, s) = np.linalg.lstsq(x, L)\n",
      "C:\\Users\\Roshni\\OneDrive\\Desktop\\Sem7\\Project 1\\ECG UI\\features\\feature_extractor.py:83: FutureWarning: The frame.append method is deprecated and will be removed from pandas in a future version. Use pandas.concat instead.\n",
      "  self.features = self.features.append(\n"
     ]
    }
   ],
   "source": [
    "# Instantiate\n",
    "labels = [1,-1]\n",
    "fs = 300\n",
    "ecg_features = Features(file_path=waveform_path, fs=fs, feature_groups=['full_waveform_features'])\n",
    "\n",
    "# Calculate ECG features\n",
    "ecg_features.extract_features(\n",
    "    filter_bandwidth=[3, 45], n_signals=None, show=True, \n",
    "    labels=labels, normalize=True, polarity_check=True,\n",
    "    template_before=0.25, template_after=0.4\n",
    ")"
   ]
  },
  {
   "cell_type": "code",
   "execution_count": 24,
   "id": "7176fabb",
   "metadata": {},
   "outputs": [
    {
     "data": {
      "text/plain": [
       "{'file_name': 'C:/Users/Roshni/Downloads/A03035.mat',\n",
       " 'full_waveform_min': -0.320197917167608,\n",
       " 'full_waveform_max': 1.1290436301221283,\n",
       " 'full_waveform_mean': 0.000679088469418239,\n",
       " 'full_waveform_median': -0.0028976084553545213,\n",
       " 'full_waveform_std': 0.1344133426381377,\n",
       " 'full_waveform_skew': 4.503354350642093,\n",
       " 'full_waveform_kurtosis': 28.487351076443,\n",
       " 'full_waveform_duration': 29.996666666666666,\n",
       " 'swt_d_1_low_power_ratio': 0.5162056431268279,\n",
       " 'swt_d_1_med_power_ratio': 0.1648741310571035,\n",
       " 'swt_d_1_high_power_ratio': 1.3915913022990334,\n",
       " 'swt_a_1_low_power_ratio': 0.2476496566801092,\n",
       " 'swt_a_1_med_power_ratio': 0.791122215563004,\n",
       " 'swt_a_1_high_power_ratio': 1.0821206339034077,\n",
       " 'swt_d_2_low_power_ratio': 0.7239949946204872,\n",
       " 'swt_d_2_med_power_ratio': 0.08442510175253656,\n",
       " 'swt_d_2_high_power_ratio': 0.29960901259053885,\n",
       " 'swt_a_2_low_power_ratio': 0.23442945309391983,\n",
       " 'swt_a_2_med_power_ratio': 0.21615436130848437,\n",
       " 'swt_a_2_high_power_ratio': 1.1395897627198313,\n",
       " 'swt_d_3_low_power_ratio': 0.7781063793249003,\n",
       " 'swt_d_3_med_power_ratio': 0.10004951702223762,\n",
       " 'swt_d_3_high_power_ratio': 0.15155855236326682,\n",
       " 'swt_a_3_low_power_ratio': 0.23478470026249987,\n",
       " 'swt_a_3_med_power_ratio': 0.15525818626584728,\n",
       " 'swt_a_3_high_power_ratio': 0.3002325306868589,\n",
       " 'swt_d_4_low_power_ratio': 0.7915963042752243,\n",
       " 'swt_d_4_med_power_ratio': 0.1361073808167628,\n",
       " 'swt_d_4_high_power_ratio': 0.10157664252954925,\n",
       " 'swt_a_4_low_power_ratio': 0.23524595165719522,\n",
       " 'swt_a_4_med_power_ratio': 0.15308934667849933,\n",
       " 'swt_a_4_high_power_ratio': 0.2500726081717707,\n",
       " 'swt_d_1_energy_entropy': -26237.422473829854,\n",
       " 'swt_d_1_higuchi_fractal': 1.1250680907586423,\n",
       " 'swt_a_1_energy_entropy': -20966.931886309743,\n",
       " 'swt_a_1_higuchi_fractal': 1.0414986975785652,\n",
       " 'swt_d_2_energy_entropy': -38366.60543601709,\n",
       " 'swt_d_2_higuchi_fractal': 1.3150531263320477,\n",
       " 'swt_a_2_energy_entropy': -23158.268670940673,\n",
       " 'swt_a_2_higuchi_fractal': 1.0845423158232117,\n",
       " 'swt_d_3_energy_entropy': -51656.08062449454,\n",
       " 'swt_d_3_higuchi_fractal': 1.6239088033124167,\n",
       " 'swt_a_3_energy_entropy': -25766.677619728634,\n",
       " 'swt_a_3_higuchi_fractal': 1.1186698422067543,\n",
       " 'swt_d_4_energy_entropy': -69546.10330158548,\n",
       " 'swt_d_4_higuchi_fractal': 1.7726229222925598,\n",
       " 'swt_a_4_energy_entropy': -28518.996174645617,\n",
       " 'swt_a_4_higuchi_fractal': 1.1222184091974585,\n",
       " 'rri_min': 1.0166666666666666,\n",
       " 'rri_max': 1.1166666666666667,\n",
       " 'rri_mean': 1.0522222222222222,\n",
       " 'rri_median': 1.05,\n",
       " 'rri_std': 0.019103854714618864,\n",
       " 'rri_skew': 1.1080770148057462,\n",
       " 'rri_kurtosis': 3.179222723757613,\n",
       " 'rri_rms': 1.0523892080725123,\n",
       " 'diff_rri_min': -0.053333333333333455,\n",
       " 'diff_rri_max': 0.09000000000000008,\n",
       " 'diff_rri_mean': 0.0005128205128205161,\n",
       " 'diff_rri_median': 0.0,\n",
       " 'diff_rri_std': 0.029705103305546064,\n",
       " 'diff_rri_skew': 0.6674400709768515,\n",
       " 'diff_rri_kurtosis': 1.613187095336965,\n",
       " 'diff_rri_rms': 0.029132764179149732,\n",
       " 'diff2_rri_min': -0.14000000000000012,\n",
       " 'diff2_rri_max': 0.1033333333333335,\n",
       " 'diff2_rri_mean': 0.00013333333333332754,\n",
       " 'diff2_rri_median': -0.006666666666666599,\n",
       " 'diff2_rri_std': 0.051374442413843646,\n",
       " 'diff2_rri_kurtosis': 0.9464898495906797,\n",
       " 'diff2_rri_rms': 0.0503366444827005,\n",
       " 'pnn01': 92.3076923076923,\n",
       " 'pnn10': 65.38461538461539,\n",
       " 'pnn20': 50.0,\n",
       " 'pnn30': 30.76923076923077,\n",
       " 'pnn40': 11.538461538461538,\n",
       " 'pnn50': 11.538461538461538,\n",
       " 'pnn60': 3.8461538461538463,\n",
       " 'pnn70': 3.8461538461538463,\n",
       " 'pnn80': 3.8461538461538463,\n",
       " 'pnn90': 3.8461538461538463,\n",
       " 'pnn100': 0.0,\n",
       " 'pnn200': 0.0,\n",
       " 'pnn400': 0.0,\n",
       " 'pnn600': 0.0,\n",
       " 'pnn800': 0.0}"
      ]
     },
     "execution_count": 24,
     "metadata": {},
     "output_type": "execute_result"
    }
   ],
   "source": [
    "from features import feature_extractor\n",
    "dic_fwff = feature_extractor.features\n",
    "# features = ecg_features.get_features()\n",
    "# features\n",
    "dic_fwff"
   ]
  },
  {
   "cell_type": "code",
   "execution_count": 9,
   "id": "96d9fb2e",
   "metadata": {},
   "outputs": [],
   "source": [
    "# features.to_csv('features_ecg.csv')"
   ]
  },
  {
   "cell_type": "code",
   "execution_count": 10,
   "id": "6d89570b",
   "metadata": {},
   "outputs": [
    {
     "data": {
      "text/plain": [
       "'C:/Users/Roshni/Downloads/A03035.mat'"
      ]
     },
     "execution_count": 10,
     "metadata": {},
     "output_type": "execute_result"
    }
   ],
   "source": [
    "waveform_path"
   ]
  },
  {
   "cell_type": "code",
   "execution_count": 25,
   "id": "e0106353",
   "metadata": {
    "scrolled": true
   },
   "outputs": [
    {
     "name": "stdout",
     "output_type": "stream",
     "text": [
      "C:/Users/Roshni/Downloads/A03035.mat\n",
      "C:/Users/Roshni/Downloads/A03035.mat\n",
      "print 51:  C:/Users/Roshni/Downloads/A03035.mat\n",
      "CHECKKKKKK THE VERSION!!!!!!!!!!! 1.4.3\n",
      "print 62: C:/Users/Roshni/Downloads/A03035.mat\n",
      "print 63:  C:/Users/Roshni/Downloads/A03035.mat\n",
      "IS THIS PRINTING???? TEST 1\n",
      "261: {'file_name': 'C:/Users/Roshni/Downloads/A03035.mat', 'full_waveform_min': -0.320197917167608, 'full_waveform_max': 1.1290436301221283, 'full_waveform_mean': 0.000679088469418239, 'full_waveform_median': -0.0028976084553545213, 'full_waveform_std': 0.1344133426381377, 'full_waveform_skew': 4.503354350642093, 'full_waveform_kurtosis': 28.487351076443, 'full_waveform_duration': 29.996666666666666, 'swt_d_1_low_power_ratio': 0.5162056431268279, 'swt_d_1_med_power_ratio': 0.1648741310571035, 'swt_d_1_high_power_ratio': 1.3915913022990334, 'swt_a_1_low_power_ratio': 0.2476496566801092, 'swt_a_1_med_power_ratio': 0.791122215563004, 'swt_a_1_high_power_ratio': 1.0821206339034077, 'swt_d_2_low_power_ratio': 0.7239949946204872, 'swt_d_2_med_power_ratio': 0.08442510175253656, 'swt_d_2_high_power_ratio': 0.29960901259053885, 'swt_a_2_low_power_ratio': 0.23442945309391983, 'swt_a_2_med_power_ratio': 0.21615436130848437, 'swt_a_2_high_power_ratio': 1.1395897627198313, 'swt_d_3_low_power_ratio': 0.7781063793249003, 'swt_d_3_med_power_ratio': 0.10004951702223762, 'swt_d_3_high_power_ratio': 0.15155855236326682, 'swt_a_3_low_power_ratio': 0.23478470026249987, 'swt_a_3_med_power_ratio': 0.15525818626584728, 'swt_a_3_high_power_ratio': 0.3002325306868589, 'swt_d_4_low_power_ratio': 0.7915963042752243, 'swt_d_4_med_power_ratio': 0.1361073808167628, 'swt_d_4_high_power_ratio': 0.10157664252954925, 'swt_a_4_low_power_ratio': 0.23524595165719522, 'swt_a_4_med_power_ratio': 0.15308934667849933, 'swt_a_4_high_power_ratio': 0.2500726081717707, 'swt_d_1_energy_entropy': -26237.422473829854, 'swt_d_1_higuchi_fractal': 1.1250680907586423, 'swt_a_1_energy_entropy': -20966.931886309743, 'swt_a_1_higuchi_fractal': 1.0414986975785652, 'swt_d_2_energy_entropy': -38366.60543601709, 'swt_d_2_higuchi_fractal': 1.3150531263320477, 'swt_a_2_energy_entropy': -23158.268670940673, 'swt_a_2_higuchi_fractal': 1.0845423158232117, 'swt_d_3_energy_entropy': -51656.08062449454, 'swt_d_3_higuchi_fractal': 1.6239088033124167, 'swt_a_3_energy_entropy': -25766.677619728634, 'swt_a_3_higuchi_fractal': 1.1186698422067543, 'swt_d_4_energy_entropy': -69546.10330158548, 'swt_d_4_higuchi_fractal': 1.7726229222925598, 'swt_a_4_energy_entropy': -28518.996174645617, 'swt_a_4_higuchi_fractal': 1.1222184091974585, 'rri_min': 1.0166666666666666, 'rri_max': 1.1166666666666667, 'rri_mean': 1.0522222222222222, 'rri_median': 1.05, 'rri_std': 0.019103854714618864, 'rri_skew': 1.1080770148057462, 'rri_kurtosis': 3.179222723757613, 'rri_rms': 1.0523892080725123, 'diff_rri_min': -0.053333333333333455, 'diff_rri_max': 0.09000000000000008, 'diff_rri_mean': 0.0005128205128205161, 'diff_rri_median': 0.0, 'diff_rri_std': 0.029705103305546064, 'diff_rri_skew': 0.6674400709768515, 'diff_rri_kurtosis': 1.613187095336965, 'diff_rri_rms': 0.029132764179149732, 'diff2_rri_min': -0.14000000000000012, 'diff2_rri_max': 0.1033333333333335, 'diff2_rri_mean': 0.00013333333333332754, 'diff2_rri_median': -0.006666666666666599, 'diff2_rri_std': 0.051374442413843646, 'diff2_rri_kurtosis': 0.9464898495906797, 'diff2_rri_rms': 0.0503366444827005, 'pnn01': 92.3076923076923, 'pnn10': 65.38461538461539, 'pnn20': 50.0, 'pnn30': 30.76923076923077, 'pnn40': 11.538461538461538, 'pnn50': 11.538461538461538, 'pnn60': 3.8461538461538463, 'pnn70': 3.8461538461538463, 'pnn80': 3.8461538461538463, 'pnn90': 3.8461538461538463, 'pnn100': 0.0, 'pnn200': 0.0, 'pnn400': 0.0, 'pnn600': 0.0, 'pnn800': 0.0}\n",
      "IS THIS PRINTING???? TEST 3\n",
      "IS THIS PRINTING???? TEST 2\n",
      "DF: Empty DataFrame\n",
      "Columns: [t]\n",
      "Index: []\n",
      "features: {'file_name': 'C:/Users/Roshni/Downloads/A03035.mat', 'full_waveform_min': -0.320197917167608, 'full_waveform_max': 1.1290436301221283, 'full_waveform_mean': 0.000679088469418239, 'full_waveform_median': -0.0028976084553545213, 'full_waveform_std': 0.1344133426381377, 'full_waveform_skew': 4.503354350642093, 'full_waveform_kurtosis': 28.487351076443, 'full_waveform_duration': 29.996666666666666, 'swt_d_1_low_power_ratio': 0.5162056431268279, 'swt_d_1_med_power_ratio': 0.1648741310571035, 'swt_d_1_high_power_ratio': 1.3915913022990334, 'swt_a_1_low_power_ratio': 0.2476496566801092, 'swt_a_1_med_power_ratio': 0.791122215563004, 'swt_a_1_high_power_ratio': 1.0821206339034077, 'swt_d_2_low_power_ratio': 0.7239949946204872, 'swt_d_2_med_power_ratio': 0.08442510175253656, 'swt_d_2_high_power_ratio': 0.29960901259053885, 'swt_a_2_low_power_ratio': 0.23442945309391983, 'swt_a_2_med_power_ratio': 0.21615436130848437, 'swt_a_2_high_power_ratio': 1.1395897627198313, 'swt_d_3_low_power_ratio': 0.7781063793249003, 'swt_d_3_med_power_ratio': 0.10004951702223762, 'swt_d_3_high_power_ratio': 0.15155855236326682, 'swt_a_3_low_power_ratio': 0.23478470026249987, 'swt_a_3_med_power_ratio': 0.15525818626584728, 'swt_a_3_high_power_ratio': 0.3002325306868589, 'swt_d_4_low_power_ratio': 0.7915963042752243, 'swt_d_4_med_power_ratio': 0.1361073808167628, 'swt_d_4_high_power_ratio': 0.10157664252954925, 'swt_a_4_low_power_ratio': 0.23524595165719522, 'swt_a_4_med_power_ratio': 0.15308934667849933, 'swt_a_4_high_power_ratio': 0.2500726081717707, 'swt_d_1_energy_entropy': -26237.422473829854, 'swt_d_1_higuchi_fractal': 1.1250680907586423, 'swt_a_1_energy_entropy': -20966.931886309743, 'swt_a_1_higuchi_fractal': 1.0414986975785652, 'swt_d_2_energy_entropy': -38366.60543601709, 'swt_d_2_higuchi_fractal': 1.3150531263320477, 'swt_a_2_energy_entropy': -23158.268670940673, 'swt_a_2_higuchi_fractal': 1.0845423158232117, 'swt_d_3_energy_entropy': -51656.08062449454, 'swt_d_3_higuchi_fractal': 1.6239088033124167, 'swt_a_3_energy_entropy': -25766.677619728634, 'swt_a_3_higuchi_fractal': 1.1186698422067543, 'swt_d_4_energy_entropy': -69546.10330158548, 'swt_d_4_higuchi_fractal': 1.7726229222925598, 'swt_a_4_energy_entropy': -28518.996174645617, 'swt_a_4_higuchi_fractal': 1.1222184091974585, 'rri_min': 1.0166666666666666, 'rri_max': 1.1166666666666667, 'rri_mean': 1.0522222222222222, 'rri_median': 1.05, 'rri_std': 0.019103854714618864, 'rri_skew': 1.1080770148057462, 'rri_kurtosis': 3.179222723757613, 'rri_rms': 1.0523892080725123, 'diff_rri_min': -0.053333333333333455, 'diff_rri_max': 0.09000000000000008, 'diff_rri_mean': 0.0005128205128205161, 'diff_rri_median': 0.0, 'diff_rri_std': 0.029705103305546064, 'diff_rri_skew': 0.6674400709768515, 'diff_rri_kurtosis': 1.613187095336965, 'diff_rri_rms': 0.029132764179149732, 'diff2_rri_min': -0.14000000000000012, 'diff2_rri_max': 0.1033333333333335, 'diff2_rri_mean': 0.00013333333333332754, 'diff2_rri_median': -0.006666666666666599, 'diff2_rri_std': 0.051374442413843646, 'diff2_rri_kurtosis': 0.9464898495906797, 'diff2_rri_rms': 0.0503366444827005, 'pnn01': 92.3076923076923, 'pnn10': 65.38461538461539, 'pnn20': 50.0, 'pnn30': 30.76923076923077, 'pnn40': 11.538461538461538, 'pnn50': 11.538461538461538, 'pnn60': 3.8461538461538463, 'pnn70': 3.8461538461538463, 'pnn80': 3.8461538461538463, 'pnn90': 3.8461538461538463, 'pnn100': 0.0, 'pnn200': 0.0, 'pnn400': 0.0, 'pnn600': 0.0, 'pnn800': 0.0}\n",
      "Finished extracting features from C:/Users/Roshni/Downloads/A03035.mat.mat | Extraction time: 0.002 minutes\n"
     ]
    },
    {
     "name": "stderr",
     "output_type": "stream",
     "text": [
      "C:\\Users\\Roshni\\OneDrive\\Desktop\\Sem7\\Project 1\\ECG UI\\features\\feature_extractor.py:83: FutureWarning: The frame.append method is deprecated and will be removed from pandas in a future version. Use pandas.concat instead.\n",
      "  self.features = self.features.append(\n"
     ]
    }
   ],
   "source": [
    "fs = 300\n",
    "rri_features = Features(file_path=waveform_path, fs=fs, feature_groups=['rri_features'])\n",
    "print(waveform_path)\n",
    "# Calculate ECG features\n",
    "rri_features.extract_features(\n",
    "    filter_bandwidth=[3, 45], n_signals=None, show=True, \n",
    "    labels=labels, normalize=True, polarity_check=True,\n",
    "    template_before=0.25, template_after=0.4\n",
    ")\n"
   ]
  },
  {
   "cell_type": "code",
   "execution_count": 26,
   "id": "730d15fb",
   "metadata": {},
   "outputs": [],
   "source": [
    "from features import feature_extractor\n",
    "dic_rri = feature_extractor.features"
   ]
  },
  {
   "cell_type": "code",
   "execution_count": 27,
   "id": "cf56f84a",
   "metadata": {},
   "outputs": [
    {
     "data": {
      "text/plain": [
       "{'file_name': 'C:/Users/Roshni/Downloads/A03035.mat',\n",
       " 'full_waveform_min': -0.320197917167608,\n",
       " 'full_waveform_max': 1.1290436301221283,\n",
       " 'full_waveform_mean': 0.000679088469418239,\n",
       " 'full_waveform_median': -0.0028976084553545213,\n",
       " 'full_waveform_std': 0.1344133426381377,\n",
       " 'full_waveform_skew': 4.503354350642093,\n",
       " 'full_waveform_kurtosis': 28.487351076443,\n",
       " 'full_waveform_duration': 29.996666666666666,\n",
       " 'swt_d_1_low_power_ratio': 0.5162056431268279,\n",
       " 'swt_d_1_med_power_ratio': 0.1648741310571035,\n",
       " 'swt_d_1_high_power_ratio': 1.3915913022990334,\n",
       " 'swt_a_1_low_power_ratio': 0.2476496566801092,\n",
       " 'swt_a_1_med_power_ratio': 0.791122215563004,\n",
       " 'swt_a_1_high_power_ratio': 1.0821206339034077,\n",
       " 'swt_d_2_low_power_ratio': 0.7239949946204872,\n",
       " 'swt_d_2_med_power_ratio': 0.08442510175253656,\n",
       " 'swt_d_2_high_power_ratio': 0.29960901259053885,\n",
       " 'swt_a_2_low_power_ratio': 0.23442945309391983,\n",
       " 'swt_a_2_med_power_ratio': 0.21615436130848437,\n",
       " 'swt_a_2_high_power_ratio': 1.1395897627198313,\n",
       " 'swt_d_3_low_power_ratio': 0.7781063793249003,\n",
       " 'swt_d_3_med_power_ratio': 0.10004951702223762,\n",
       " 'swt_d_3_high_power_ratio': 0.15155855236326682,\n",
       " 'swt_a_3_low_power_ratio': 0.23478470026249987,\n",
       " 'swt_a_3_med_power_ratio': 0.15525818626584728,\n",
       " 'swt_a_3_high_power_ratio': 0.3002325306868589,\n",
       " 'swt_d_4_low_power_ratio': 0.7915963042752243,\n",
       " 'swt_d_4_med_power_ratio': 0.1361073808167628,\n",
       " 'swt_d_4_high_power_ratio': 0.10157664252954925,\n",
       " 'swt_a_4_low_power_ratio': 0.23524595165719522,\n",
       " 'swt_a_4_med_power_ratio': 0.15308934667849933,\n",
       " 'swt_a_4_high_power_ratio': 0.2500726081717707,\n",
       " 'swt_d_1_energy_entropy': -26237.422473829854,\n",
       " 'swt_d_1_higuchi_fractal': 1.1250680907586423,\n",
       " 'swt_a_1_energy_entropy': -20966.931886309743,\n",
       " 'swt_a_1_higuchi_fractal': 1.0414986975785652,\n",
       " 'swt_d_2_energy_entropy': -38366.60543601709,\n",
       " 'swt_d_2_higuchi_fractal': 1.3150531263320477,\n",
       " 'swt_a_2_energy_entropy': -23158.268670940673,\n",
       " 'swt_a_2_higuchi_fractal': 1.0845423158232117,\n",
       " 'swt_d_3_energy_entropy': -51656.08062449454,\n",
       " 'swt_d_3_higuchi_fractal': 1.6239088033124167,\n",
       " 'swt_a_3_energy_entropy': -25766.677619728634,\n",
       " 'swt_a_3_higuchi_fractal': 1.1186698422067543,\n",
       " 'swt_d_4_energy_entropy': -69546.10330158548,\n",
       " 'swt_d_4_higuchi_fractal': 1.7726229222925598,\n",
       " 'swt_a_4_energy_entropy': -28518.996174645617,\n",
       " 'swt_a_4_higuchi_fractal': 1.1222184091974585,\n",
       " 'rri_min': 1.0166666666666666,\n",
       " 'rri_max': 1.1166666666666667,\n",
       " 'rri_mean': 1.0522222222222222,\n",
       " 'rri_median': 1.05,\n",
       " 'rri_std': 0.019103854714618864,\n",
       " 'rri_skew': 1.1080770148057462,\n",
       " 'rri_kurtosis': 3.179222723757613,\n",
       " 'rri_rms': 1.0523892080725123,\n",
       " 'diff_rri_min': -0.053333333333333455,\n",
       " 'diff_rri_max': 0.09000000000000008,\n",
       " 'diff_rri_mean': 0.0005128205128205161,\n",
       " 'diff_rri_median': 0.0,\n",
       " 'diff_rri_std': 0.029705103305546064,\n",
       " 'diff_rri_skew': 0.6674400709768515,\n",
       " 'diff_rri_kurtosis': 1.613187095336965,\n",
       " 'diff_rri_rms': 0.029132764179149732,\n",
       " 'diff2_rri_min': -0.14000000000000012,\n",
       " 'diff2_rri_max': 0.1033333333333335,\n",
       " 'diff2_rri_mean': 0.00013333333333332754,\n",
       " 'diff2_rri_median': -0.006666666666666599,\n",
       " 'diff2_rri_std': 0.051374442413843646,\n",
       " 'diff2_rri_kurtosis': 0.9464898495906797,\n",
       " 'diff2_rri_rms': 0.0503366444827005,\n",
       " 'pnn01': 92.3076923076923,\n",
       " 'pnn10': 65.38461538461539,\n",
       " 'pnn20': 50.0,\n",
       " 'pnn30': 30.76923076923077,\n",
       " 'pnn40': 11.538461538461538,\n",
       " 'pnn50': 11.538461538461538,\n",
       " 'pnn60': 3.8461538461538463,\n",
       " 'pnn70': 3.8461538461538463,\n",
       " 'pnn80': 3.8461538461538463,\n",
       " 'pnn90': 3.8461538461538463,\n",
       " 'pnn100': 0.0,\n",
       " 'pnn200': 0.0,\n",
       " 'pnn400': 0.0,\n",
       " 'pnn600': 0.0,\n",
       " 'pnn800': 0.0}"
      ]
     },
     "execution_count": 27,
     "metadata": {},
     "output_type": "execute_result"
    }
   ],
   "source": [
    "dic_rri"
   ]
  },
  {
   "cell_type": "code",
   "execution_count": 28,
   "id": "fe04e8fb",
   "metadata": {},
   "outputs": [],
   "source": [
    "dic1 = [dic_rri]"
   ]
  },
  {
   "cell_type": "code",
   "execution_count": 29,
   "id": "27ab6e26",
   "metadata": {},
   "outputs": [
    {
     "data": {
      "text/html": [
       "<div>\n",
       "<style scoped>\n",
       "    .dataframe tbody tr th:only-of-type {\n",
       "        vertical-align: middle;\n",
       "    }\n",
       "\n",
       "    .dataframe tbody tr th {\n",
       "        vertical-align: top;\n",
       "    }\n",
       "\n",
       "    .dataframe thead th {\n",
       "        text-align: right;\n",
       "    }\n",
       "</style>\n",
       "<table border=\"1\" class=\"dataframe\">\n",
       "  <thead>\n",
       "    <tr style=\"text-align: right;\">\n",
       "      <th></th>\n",
       "      <th>full_waveform_min</th>\n",
       "      <th>full_waveform_max</th>\n",
       "      <th>full_waveform_mean</th>\n",
       "      <th>full_waveform_median</th>\n",
       "      <th>full_waveform_std</th>\n",
       "      <th>full_waveform_skew</th>\n",
       "      <th>full_waveform_kurtosis</th>\n",
       "      <th>full_waveform_duration</th>\n",
       "      <th>swt_d_1_low_power_ratio</th>\n",
       "      <th>swt_d_1_med_power_ratio</th>\n",
       "      <th>...</th>\n",
       "      <th>pnn50</th>\n",
       "      <th>pnn60</th>\n",
       "      <th>pnn70</th>\n",
       "      <th>pnn80</th>\n",
       "      <th>pnn90</th>\n",
       "      <th>pnn100</th>\n",
       "      <th>pnn200</th>\n",
       "      <th>pnn400</th>\n",
       "      <th>pnn600</th>\n",
       "      <th>pnn800</th>\n",
       "    </tr>\n",
       "  </thead>\n",
       "  <tbody>\n",
       "    <tr>\n",
       "      <th>0</th>\n",
       "      <td>-0.320198</td>\n",
       "      <td>1.129044</td>\n",
       "      <td>0.000679</td>\n",
       "      <td>-0.002898</td>\n",
       "      <td>0.134413</td>\n",
       "      <td>4.503354</td>\n",
       "      <td>28.487351</td>\n",
       "      <td>29.996667</td>\n",
       "      <td>0.516206</td>\n",
       "      <td>0.164874</td>\n",
       "      <td>...</td>\n",
       "      <td>11.538462</td>\n",
       "      <td>3.846154</td>\n",
       "      <td>3.846154</td>\n",
       "      <td>3.846154</td>\n",
       "      <td>3.846154</td>\n",
       "      <td>0.0</td>\n",
       "      <td>0.0</td>\n",
       "      <td>0.0</td>\n",
       "      <td>0.0</td>\n",
       "      <td>0.0</td>\n",
       "    </tr>\n",
       "  </tbody>\n",
       "</table>\n",
       "<p>1 rows × 86 columns</p>\n",
       "</div>"
      ],
      "text/plain": [
       "   full_waveform_min  full_waveform_max  full_waveform_mean  \\\n",
       "0          -0.320198           1.129044            0.000679   \n",
       "\n",
       "   full_waveform_median  full_waveform_std  full_waveform_skew  \\\n",
       "0             -0.002898           0.134413            4.503354   \n",
       "\n",
       "   full_waveform_kurtosis  full_waveform_duration  swt_d_1_low_power_ratio  \\\n",
       "0               28.487351               29.996667                 0.516206   \n",
       "\n",
       "   swt_d_1_med_power_ratio  ...      pnn50     pnn60     pnn70     pnn80  \\\n",
       "0                 0.164874  ...  11.538462  3.846154  3.846154  3.846154   \n",
       "\n",
       "      pnn90  pnn100  pnn200  pnn400  pnn600  pnn800  \n",
       "0  3.846154     0.0     0.0     0.0     0.0     0.0  \n",
       "\n",
       "[1 rows x 86 columns]"
      ]
     },
     "execution_count": 29,
     "metadata": {},
     "output_type": "execute_result"
    }
   ],
   "source": [
    "df11 = pd.DataFrame(dic1)\n",
    "df11 = df11.iloc[:,1:]\n",
    "df11"
   ]
  },
  {
   "cell_type": "code",
   "execution_count": 30,
   "id": "f424215c",
   "metadata": {},
   "outputs": [],
   "source": [
    "df11_list = df11.values"
   ]
  },
  {
   "cell_type": "code",
   "execution_count": 31,
   "id": "fb54e617",
   "metadata": {},
   "outputs": [
    {
     "data": {
      "text/plain": [
       "array([[ 3.80874291e+03, -6.11475021e+03, -9.54546018e+02,\n",
       "         3.50269843e+02,  1.60217907e+02,  2.77807613e+01,\n",
       "        -1.11355829e+02, -3.52883901e+01,  5.02777893e+01,\n",
       "        -1.37535169e+01,  3.65017291e+00, -1.55759154e+00,\n",
       "         4.42564498e-02,  2.95074723e+00, -7.77143588e+00,\n",
       "         4.00683511e+00]])"
      ]
     },
     "execution_count": 31,
     "metadata": {},
     "output_type": "execute_result"
    }
   ],
   "source": [
    "from sklearn.decomposition import PCA\n",
    "import pickle as pkl\n",
    "\n",
    "pca_1 = pkl.load(open(\"pca16_ecg_2017.pkl\",'rb'))\n",
    "df111 = pca_1.transform(df11)\n",
    "df111"
   ]
  },
  {
   "cell_type": "code",
   "execution_count": 32,
   "id": "8c64d444",
   "metadata": {},
   "outputs": [
    {
     "data": {
      "text/plain": [
       "array([[-3.20197917e-01,  1.12904363e+00,  6.79088469e-04,\n",
       "        -2.89760846e-03,  1.34413343e-01,  4.50335435e+00,\n",
       "         2.84873511e+01,  2.99966667e+01,  5.16205643e-01,\n",
       "         1.64874131e-01,  1.39159130e+00,  2.47649657e-01,\n",
       "         7.91122216e-01,  1.08212063e+00,  7.23994995e-01,\n",
       "         8.44251018e-02,  2.99609013e-01,  2.34429453e-01,\n",
       "         2.16154361e-01,  1.13958976e+00,  7.78106379e-01,\n",
       "         1.00049517e-01,  1.51558552e-01,  2.34784700e-01,\n",
       "         1.55258186e-01,  3.00232531e-01,  7.91596304e-01,\n",
       "         1.36107381e-01,  1.01576643e-01,  2.35245952e-01,\n",
       "         1.53089347e-01,  2.50072608e-01, -2.62374225e+04,\n",
       "         1.12506809e+00, -2.09669319e+04,  1.04149870e+00,\n",
       "        -3.83666054e+04,  1.31505313e+00, -2.31582687e+04,\n",
       "         1.08454232e+00, -5.16560806e+04,  1.62390880e+00,\n",
       "        -2.57666776e+04,  1.11866984e+00, -6.95461033e+04,\n",
       "         1.77262292e+00, -2.85189962e+04,  1.12221841e+00,\n",
       "         1.01666667e+00,  1.11666667e+00,  1.05222222e+00,\n",
       "         1.05000000e+00,  1.91038547e-02,  1.10807701e+00,\n",
       "         3.17922272e+00,  1.05238921e+00, -5.33333333e-02,\n",
       "         9.00000000e-02,  5.12820513e-04,  0.00000000e+00,\n",
       "         2.97051033e-02,  6.67440071e-01,  1.61318710e+00,\n",
       "         2.91327642e-02, -1.40000000e-01,  1.03333333e-01,\n",
       "         1.33333333e-04, -6.66666667e-03,  5.13744424e-02,\n",
       "         9.46489850e-01,  5.03366445e-02,  9.23076923e+01,\n",
       "         6.53846154e+01,  5.00000000e+01,  3.07692308e+01,\n",
       "         1.15384615e+01,  1.15384615e+01,  3.84615385e+00,\n",
       "         3.84615385e+00,  3.84615385e+00,  3.84615385e+00,\n",
       "         0.00000000e+00,  0.00000000e+00,  0.00000000e+00,\n",
       "         0.00000000e+00,  0.00000000e+00,  3.80874291e+03,\n",
       "        -6.11475021e+03, -9.54546018e+02,  3.50269843e+02,\n",
       "         1.60217907e+02,  2.77807613e+01, -1.11355829e+02,\n",
       "        -3.52883901e+01,  5.02777893e+01, -1.37535169e+01,\n",
       "         3.65017291e+00, -1.55759154e+00,  4.42564498e-02,\n",
       "         2.95074723e+00, -7.77143588e+00,  4.00683511e+00]])"
      ]
     },
     "execution_count": 32,
     "metadata": {},
     "output_type": "execute_result"
    }
   ],
   "source": [
    "fin_df = np.concatenate((df11, df111),1)\n",
    "fin_df"
   ]
  },
  {
   "cell_type": "code",
   "execution_count": 34,
   "id": "afa9238a",
   "metadata": {},
   "outputs": [
    {
     "name": "stderr",
     "output_type": "stream",
     "text": [
      "C:\\Users\\Roshni\\anaconda3\\lib\\site-packages\\sklearn\\base.py:450: UserWarning: X does not have valid feature names, but AdaBoostClassifier was fitted with feature names\n",
      "  warnings.warn(\n"
     ]
    },
    {
     "data": {
      "text/plain": [
       "array([1], dtype=int64)"
      ]
     },
     "execution_count": 34,
     "metadata": {},
     "output_type": "execute_result"
    }
   ],
   "source": [
    "pickled_model = pkl.load(open(\"RFC_Boosting_ECG17.pkl\", \"rb\"))\n",
    "\n",
    "pickled_model.predict(fin_df)"
   ]
  },
  {
   "cell_type": "code",
   "execution_count": 36,
   "id": "b1dcabe4",
   "metadata": {},
   "outputs": [],
   "source": [
    "# fin_df"
   ]
  },
  {
   "cell_type": "code",
   "execution_count": 53,
   "id": "bb314fbe",
   "metadata": {},
   "outputs": [],
   "source": [
    "# df  = pd.read_csv(\"C:/Users/Roshni/Downloads/tttt.csv\", names = ['c','d'])"
   ]
  },
  {
   "cell_type": "code",
   "execution_count": 54,
   "id": "76945686",
   "metadata": {},
   "outputs": [
    {
     "data": {
      "text/html": [
       "<div>\n",
       "<style scoped>\n",
       "    .dataframe tbody tr th:only-of-type {\n",
       "        vertical-align: middle;\n",
       "    }\n",
       "\n",
       "    .dataframe tbody tr th {\n",
       "        vertical-align: top;\n",
       "    }\n",
       "\n",
       "    .dataframe thead th {\n",
       "        text-align: right;\n",
       "    }\n",
       "</style>\n",
       "<table border=\"1\" class=\"dataframe\">\n",
       "  <thead>\n",
       "    <tr style=\"text-align: right;\">\n",
       "      <th></th>\n",
       "      <th>c</th>\n",
       "      <th>d</th>\n",
       "    </tr>\n",
       "  </thead>\n",
       "  <tbody>\n",
       "    <tr>\n",
       "      <th>0</th>\n",
       "      <td>A00/A00001</td>\n",
       "      <td>N</td>\n",
       "    </tr>\n",
       "    <tr>\n",
       "      <th>1</th>\n",
       "      <td>A00/A00002</td>\n",
       "      <td>N</td>\n",
       "    </tr>\n",
       "    <tr>\n",
       "      <th>2</th>\n",
       "      <td>A00/A00003</td>\n",
       "      <td>N</td>\n",
       "    </tr>\n",
       "    <tr>\n",
       "      <th>3</th>\n",
       "      <td>A00/A00004</td>\n",
       "      <td>A</td>\n",
       "    </tr>\n",
       "    <tr>\n",
       "      <th>4</th>\n",
       "      <td>A00/A00005</td>\n",
       "      <td>O</td>\n",
       "    </tr>\n",
       "    <tr>\n",
       "      <th>...</th>\n",
       "      <td>...</td>\n",
       "      <td>...</td>\n",
       "    </tr>\n",
       "    <tr>\n",
       "      <th>8523</th>\n",
       "      <td>A08/A08524</td>\n",
       "      <td>N</td>\n",
       "    </tr>\n",
       "    <tr>\n",
       "      <th>8524</th>\n",
       "      <td>A08/A08525</td>\n",
       "      <td>O</td>\n",
       "    </tr>\n",
       "    <tr>\n",
       "      <th>8525</th>\n",
       "      <td>A08/A08526</td>\n",
       "      <td>N</td>\n",
       "    </tr>\n",
       "    <tr>\n",
       "      <th>8526</th>\n",
       "      <td>A08/A08527</td>\n",
       "      <td>N</td>\n",
       "    </tr>\n",
       "    <tr>\n",
       "      <th>8527</th>\n",
       "      <td>A08/A08528</td>\n",
       "      <td>N</td>\n",
       "    </tr>\n",
       "  </tbody>\n",
       "</table>\n",
       "<p>8528 rows × 2 columns</p>\n",
       "</div>"
      ],
      "text/plain": [
       "               c  d\n",
       "0     A00/A00001  N\n",
       "1     A00/A00002  N\n",
       "2     A00/A00003  N\n",
       "3     A00/A00004  A\n",
       "4     A00/A00005  O\n",
       "...          ... ..\n",
       "8523  A08/A08524  N\n",
       "8524  A08/A08525  O\n",
       "8525  A08/A08526  N\n",
       "8526  A08/A08527  N\n",
       "8527  A08/A08528  N\n",
       "\n",
       "[8528 rows x 2 columns]"
      ]
     },
     "execution_count": 54,
     "metadata": {},
     "output_type": "execute_result"
    }
   ],
   "source": [
    "# df1 = df.iloc[:,0]\n",
    "# df"
   ]
  },
  {
   "cell_type": "code",
   "execution_count": 55,
   "id": "415024d6",
   "metadata": {},
   "outputs": [],
   "source": [
    "# df['c'] = df['c'].str[4:]"
   ]
  },
  {
   "cell_type": "code",
   "execution_count": 57,
   "id": "721ac88b",
   "metadata": {},
   "outputs": [],
   "source": [
    "# df.to_csv('C:/Users/Roshni/Downloads/tttt.csv')"
   ]
  },
  {
   "cell_type": "code",
   "execution_count": 104,
   "id": "34b85006",
   "metadata": {},
   "outputs": [
    {
     "data": {
      "text/plain": [
       "'A03001'"
      ]
     },
     "execution_count": 104,
     "metadata": {},
     "output_type": "execute_result"
    }
   ],
   "source": [
    "# x = \"C:/Users/Roshni/Downloads/A03001.csv\"\n",
    "# x = x.split(\".\")[0].split(\"/\")[4]\n",
    "# x"
   ]
  },
  {
   "cell_type": "code",
   "execution_count": 105,
   "id": "0183b2ca",
   "metadata": {},
   "outputs": [
    {
     "name": "stdout",
     "output_type": "stream",
     "text": [
      "A03001\n",
      "nfin\n"
     ]
    }
   ],
   "source": [
    "# df_actual = pd.read_csv(\"C:/Users/Roshni/OneDrive/Desktop/Sem7/Project 1/ECG UI/2016_17_ALL_ECG_SUBJECTS_WITH_LABEL.csv\", index_col = False)\n",
    "# #x = waveform_path\n",
    "#     # MODIFY [5] BASED ON THE FUNCTION FILE_SELECTOR'S FOLDER PATH !!\n",
    "# x = x.split(\".\")[0]\n",
    "# print(x)\n",
    "# y = df_actual.loc[df_actual['file_name'] == x]['label']\n",
    "\n",
    "\n",
    "\n",
    "# z = df_actual[df_actual['file_name'].str.contains(x)]\n",
    "# m = z['label']\n",
    "# m = np.array(m)\n",
    "# if(m==\"N\"):\n",
    "#     print(\"fin\")\n",
    "# else:\n",
    "#     print(\"nfin\")"
   ]
  },
  {
   "cell_type": "code",
   "execution_count": 76,
   "id": "dbadeb4c",
   "metadata": {},
   "outputs": [
    {
     "data": {
      "text/plain": [
       "0       A00001\n",
       "1       A00002\n",
       "2       A00003\n",
       "3       A00004\n",
       "4       A00005\n",
       "         ...  \n",
       "8932     a0405\n",
       "8933     a0406\n",
       "8934     a0407\n",
       "8935     a0408\n",
       "8936     a0409\n",
       "Name: file_name, Length: 8937, dtype: object"
      ]
     },
     "execution_count": 76,
     "metadata": {},
     "output_type": "execute_result"
    }
   ],
   "source": [
    "# df_actual['file_name']"
   ]
  },
  {
   "cell_type": "code",
   "execution_count": null,
   "id": "0011f14c",
   "metadata": {},
   "outputs": [],
   "source": []
  }
 ],
 "metadata": {
  "kernelspec": {
   "display_name": "Python 3 (ipykernel)",
   "language": "python",
   "name": "python3"
  },
  "language_info": {
   "codemirror_mode": {
    "name": "ipython",
    "version": 3
   },
   "file_extension": ".py",
   "mimetype": "text/x-python",
   "name": "python",
   "nbconvert_exporter": "python",
   "pygments_lexer": "ipython3",
   "version": "3.9.13"
  }
 },
 "nbformat": 4,
 "nbformat_minor": 5
}
